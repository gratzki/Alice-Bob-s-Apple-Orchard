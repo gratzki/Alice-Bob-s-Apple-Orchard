{
 "cells": [
  {
   "cell_type": "markdown",
   "id": "593c062e",
   "metadata": {},
   "source": [
    "# Alice & Bob's Apple Orchard\n",
    "\n",
    "Alice & Bob pick apples from trees. They split their number of trees picked by K trees for Alice and L for Bob.\n",
    "Alice and Bob will try to pick the most apples possible when their K and L are designated.\n",
    "The trees have each a number of apples represented as a list A. If A is [6,1,4,6,3,2,7,4], we have 8 trees, the first  of which wih 6 apples, the second only 1, third 4 etc.\n",
    "Alice and Bob make sure they to not pick from each others' trees.\n",
    "If their designated K and L values cause them to pick from each others' tree(s), return -1 as penance."
   ]
  },
  {
   "cell_type": "markdown",
   "id": "2f510cac",
   "metadata": {},
   "source": [
    "#### Create a function that returns the total number of apples that can be collected by Alice & Bob with accordance to a list of trees with their apples A, and their designated number of trees to pick K and L"
   ]
  },
  {
   "cell_type": "code",
   "execution_count": 18,
   "id": "bce1ac6d",
   "metadata": {},
   "outputs": [],
   "source": [
    "def function(A,K,L):\n",
    "    \n",
    "    # set multiple A values so original A does not get distorted\n",
    "    A1 = A\n",
    "    A2 = A1\n",
    "\n",
    "    Ktotal1 = []\n",
    "    Ktotal = 0\n",
    "    \n",
    "    Ltotal1 = []\n",
    "    Ltotal = 0\n",
    "    \n",
    "    # if K and L summed is less than length of A, numbers cannot be split therefore return -1\n",
    "    if K + L > len(A):\n",
    "        return -1\n",
    "    \n",
    "    else:\n",
    "        \n",
    "        # while K is larger than A, append sections of A of K values, moving up the list by 1 index each index\n",
    "\n",
    "        while len(A1) >= K:\n",
    "            \n",
    "            Ktotal1.append(A1[:K])\n",
    "            A1.remove(A1[0])\n",
    "            \n",
    "            # set limit to stop scan when remainin A length matches K            \n",
    "            if len(A1) == K:\n",
    "                # add last matching length of K with A and break loop\n",
    "                Ktotal1.append(A1[:K])\n",
    "                break\n",
    "                \n",
    "        # sort new nested lists list by sorting of ascending sum of values per list, looking for highest\n",
    "        Ktotal1.sort(key=sum)\n",
    "        \n",
    "        # set \n",
    "        Kmax = Ktotal1[-1]\n",
    "        \n",
    "        \"\"\"\n",
    "        Ktotal should be highest sum of K section\n",
    "        \n",
    "        i.e.\n",
    "        \n",
    "        if A is [6,1,4,6,3,2,7,4] and K is 3, Ktotal is [4,6,3] with max sum of 13\n",
    "        \"\"\"\n",
    "        \n",
    "        # now let's find a way to drop values in K from list A\n",
    "        \n",
    "        # using .index() method, check to see if there is no conflict i.e. 0 value after first potential 0\n",
    "        \n",
    "        zerocheck = []\n",
    "        \n",
    "        for i in Kmax:\n",
    "            zerocheck.append(A.index(i))\n",
    "        \n",
    "        # if there is only 0 as first index, \n",
    "        if 0 == zerocheck[0] and 0 not in zerocheck[1:]:\n",
    "            A2 = A[:max(zerocheck)+1]\n",
    "            \n",
    "        # if we're not at index 0 and there is no 0 following\n",
    "        elif 0 != zerocheck[0] and 0 not in zerocheck[1:]:\n",
    "            A2 = A[:min(zerocheck)] + A[:max(zerocheck)+1]\n",
    "            \n",
    "        else:\n",
    "            idx = 1\n",
    "            # if 0 is found elsewhere from initial 0 index, move index scan forward\n",
    "            \n",
    "            if 0 in zerocheck[idx:]:\n",
    "                zerocheck = []\n",
    "                idx =+1\n",
    "                \n",
    "            # when condition is met where there is no 0 in zero check\n",
    "            if 0 not in zerocheck[idx:]:\n",
    "                A2 = A[:min(zerocheck)] + A[max(zerocheck)+1]           \n",
    "        \n",
    "        # now A2 is currently our list of A - K, avoiding any conflict\n",
    "        while len(A2) >= L:\n",
    "            Ltotal1.append(A2[:L])\n",
    "            A2.remove(A2[0])\n",
    "            \n",
    "            if len(A2) == L:\n",
    "                Ltotal1.append(A2[:L])\n",
    "                break\n",
    "\n",
    "        Ltotal1.sort(key=sum)\n",
    "        Lmax = Ltotal1[-1]\n",
    "\n",
    "        return sum(Kmax) + sum(Lmax)"
   ]
  },
  {
   "cell_type": "code",
   "execution_count": 13,
   "id": "75e3d1b0",
   "metadata": {},
   "outputs": [],
   "source": [
    "A = [6,1,4,6,3,2,7,4]\n",
    "K = 3\n",
    "L = 2"
   ]
  },
  {
   "cell_type": "code",
   "execution_count": 15,
   "id": "575e163b",
   "metadata": {},
   "outputs": [
    {
     "data": {
      "text/plain": [
       "24"
      ]
     },
     "execution_count": 15,
     "metadata": {},
     "output_type": "execute_result"
    }
   ],
   "source": [
    "function(A,K,L)"
   ]
  },
  {
   "cell_type": "code",
   "execution_count": 16,
   "id": "27a69511",
   "metadata": {},
   "outputs": [],
   "source": [
    "A = [8,1,4]\n",
    "K = 2\n",
    "L = 2"
   ]
  },
  {
   "cell_type": "code",
   "execution_count": 17,
   "id": "6a4d2293",
   "metadata": {},
   "outputs": [
    {
     "data": {
      "text/plain": [
       "-1"
      ]
     },
     "execution_count": 17,
     "metadata": {},
     "output_type": "execute_result"
    }
   ],
   "source": [
    "function(A,K,L)"
   ]
  }
 ],
 "metadata": {
  "kernelspec": {
   "display_name": "Python 3 (ipykernel)",
   "language": "python",
   "name": "python3"
  },
  "language_info": {
   "codemirror_mode": {
    "name": "ipython",
    "version": 3
   },
   "file_extension": ".py",
   "mimetype": "text/x-python",
   "name": "python",
   "nbconvert_exporter": "python",
   "pygments_lexer": "ipython3",
   "version": "3.9.8"
  }
 },
 "nbformat": 4,
 "nbformat_minor": 5
}
